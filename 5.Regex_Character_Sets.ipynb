{
 "cells": [
  {
   "cell_type": "markdown",
   "metadata": {},
   "source": [
    "# Hello,\n",
    "> ## Welcome to Module-5\n",
    "> ## In this module, we'll discuss about Character Sets.\n",
    "\n",
    "----"
   ]
  },
  {
   "cell_type": "markdown",
   "metadata": {},
   "source": [
    "> ## 1. [a-z] or [A-Z]\n",
    ">\n",
    "> ### [a-z] represent a single character from the set of lowercase alphabets.\n",
    ">\n",
    "> ### [A-Z] represent a single character from the set of uppercase alphabets.\n",
    ">\n",
    "> ### They all react similarly to quantifiers as of a single character in regex."
   ]
  },
  {
   "cell_type": "code",
   "execution_count": 6,
   "metadata": {},
   "outputs": [
    {
     "name": "stdout",
     "output_type": "stream",
     "text": [
      "<re.Match object; span=(1, 2), match='n'>\n",
      "<re.Match object; span=(1, 5), match='ndia'>\n",
      "<re.Match object; span=(0, 1), match='I'>\n",
      "<re.Match object; span=(0, 5), match='India'>\n"
     ]
    }
   ],
   "source": [
    "import re\n",
    "\n",
    "pattern1 = '[a-z]'\n",
    "pattern2 = '[a-z]+'\n",
    "pattern3 = '[A-Z]'\n",
    "pattern4 = '[a-zA-Z]+'\n",
    "\n",
    "string1 = 'India55'\n",
    "\n",
    "#--------------CODE---------------\n",
    "def findpattern(pattern, text):\n",
    "    if re.search(pattern, text):\n",
    "        return re.search(pattern, text)\n",
    "    else:\n",
    "        return 'Not Found!'\n",
    "\n",
    "print(findpattern(pattern1, string1))\n",
    "print(findpattern(pattern2, string1))\n",
    "print(findpattern(pattern3, string1))\n",
    "print(findpattern(pattern4, string1))"
   ]
  },
  {
   "cell_type": "markdown",
   "metadata": {},
   "source": [
    "----"
   ]
  },
  {
   "cell_type": "markdown",
   "metadata": {},
   "source": [
    "> ## 2. [0-9]\n",
    ">\n",
    "> ### [0-9] represent a single character from the set of digits.\n",
    ">\n",
    "> ### They all react similarly to quantifiers as of a single character in regex."
   ]
  },
  {
   "cell_type": "code",
   "execution_count": 9,
   "metadata": {},
   "outputs": [
    {
     "name": "stdout",
     "output_type": "stream",
     "text": [
      "<re.Match object; span=(5, 6), match='0'>\n",
      "<re.Match object; span=(5, 13), match='08112021'>\n"
     ]
    }
   ],
   "source": [
    "import re\n",
    "\n",
    "pattern1 = '[0-9]'\n",
    "pattern2 = '[0-9]+'\n",
    "\n",
    "\n",
    "string1 = 'India08112021'\n",
    "\n",
    "#--------------CODE---------------\n",
    "def findpattern(pattern, text):\n",
    "    if re.search(pattern, text):\n",
    "        return re.search(pattern, text)\n",
    "    else:\n",
    "        return 'Not Found!'\n",
    "\n",
    "print(findpattern(pattern1, string1))\n",
    "print(findpattern(pattern2, string1))"
   ]
  },
  {
   "cell_type": "markdown",
   "metadata": {},
   "source": [
    "----"
   ]
  },
  {
   "cell_type": "markdown",
   "metadata": {},
   "source": [
    "# Character Sets\n",
    "\n",
    "### Some abbreviations of character sets.\n",
    "\n",
    "\n",
    "| Symbol |      Purpose      |\n",
    "| :----: | :---------------: |\n",
    "|   \\s   |    White Space    |\n",
    "|   \\S   |  Not White Space  |\n",
    "|   \\d   |       Digit       |\n",
    "|   \\D   |     Not Digit     |\n",
    "|   \\w   |       Word        |\n",
    "|   \\W   |     Not Word      |\n",
    "|   \\x   | Hexadecimal Digit |\n",
    "|   \\O   |    Octal Digit    |"
   ]
  },
  {
   "cell_type": "markdown",
   "metadata": {},
   "source": [
    "----\n",
    "# This the end of this Module\n",
    "-----"
   ]
  }
 ],
 "metadata": {
  "interpreter": {
   "hash": "bfb9e86fd1dfd5accc8b916eaf586703344119652c45873334f0ecc4077ec3a1"
  },
  "kernelspec": {
   "display_name": "Python 3.9.6 64-bit",
   "language": "python",
   "name": "python3"
  },
  "language_info": {
   "codemirror_mode": {
    "name": "ipython",
    "version": 3
   },
   "file_extension": ".py",
   "mimetype": "text/x-python",
   "name": "python",
   "nbconvert_exporter": "python",
   "pygments_lexer": "ipython3",
   "version": "3.8.8"
  },
  "orig_nbformat": 4
 },
 "nbformat": 4,
 "nbformat_minor": 2
}
