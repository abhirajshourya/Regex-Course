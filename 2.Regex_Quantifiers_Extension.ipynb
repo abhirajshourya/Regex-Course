{
 "cells": [
  {
   "cell_type": "markdown",
   "metadata": {},
   "source": [
    "# Hello,\n",
    "> ## Welcome to Module-2\n",
    "> ## Let's cover a few more points about ' ? ' and ' {m,n} '"
   ]
  },
  {
   "cell_type": "markdown",
   "metadata": {},
   "source": [
    "> ## 1. adding ' ? ' to a pattern will make the pattern non-greedy."
   ]
  },
  {
   "cell_type": "code",
   "execution_count": 4,
   "metadata": {},
   "outputs": [
    {
     "name": "stdout",
     "output_type": "stream",
     "text": [
      "<re.Match object; span=(2, 7), match='aaaaa'>\n",
      "<re.Match object; span=(2, 7), match='aaaaa'>\n",
      "<re.Match object; span=(2, 7), match='aaaaa'>\n",
      "Not Found!\n",
      "Not Found!\n",
      "Not Found!\n"
     ]
    }
   ],
   "source": [
    "import re\n",
    "\n",
    "pattern = 'a{5,10}?'\n",
    "\n",
    "# The strings will be matched.\n",
    "\n",
    "string1 = 'wraaaaap'\n",
    "string2 = 'wraaaaaap'\n",
    "string3 = 'wraaaaaaaaaap'\n",
    "\n",
    "\n",
    "\n",
    "# Non-Matching will be\n",
    "\n",
    "string4 = 'wrap'\n",
    "string5 = 'wraap'\n",
    "string6 = 'wraaaap'\n",
    "\n",
    "#--------------CODE---------------\n",
    "def findpattern(pattern, text):\n",
    "    if re.search(pattern, text):\n",
    "        return re.search(pattern, text)\n",
    "    else:\n",
    "        return 'Not Found!'\n",
    "\n",
    "print(findpattern(pattern, string1))\n",
    "print(findpattern(pattern, string2))\n",
    "print(findpattern(pattern, string3))\n",
    "print(findpattern(pattern, string4))\n",
    "print(findpattern(pattern, string5))\n",
    "print(findpattern(pattern, string6))"
   ]
  },
  {
   "cell_type": "markdown",
   "metadata": {},
   "source": [
    "### The above example shows the non-greedy search by just adding ' ? ' operator. Only minimum from the range has been search for not the whole."
   ]
  },
  {
   "cell_type": "markdown",
   "metadata": {},
   "source": [
    "> ## 2. Greedy vs Non-Greedy Search\n",
    "> ### When you use a regular expression to match a string, the regex greedily tries to look for the longest pattern possible in the string. For example, when you specify the pattern 'ab{2,5}' to match the string 'abbbbb', it will look for the maximum number of occurrences of 'b' (in this case 5).\n",
    "> ### This is called a 'greedy approach'. By default, a regular expression is greedy in nature. There is another approach called the non-greedy approach, also called the lazy approach, where the regex stops looking for the pattern once a particular condition is satisfied.\n",
    "> ### Suppose, you have the string ‘3000’. Now, if you use the regular expression ‘30+’, it means that you want to look for a string which starts with ‘3’ and then has one or more '0's followed by it. This pattern will match the entire string, i.e. ‘3000’. This is the greedy way. But if you use the non-greedy technique, it will only match ‘30’ because it still satisfies the pattern ‘30+’ but stops as soon as it matches the given pattern."
   ]
  },
  {
   "cell_type": "code",
   "execution_count": 1,
   "metadata": {},
   "outputs": [
    {
     "name": "stdout",
     "output_type": "stream",
     "text": [
      "<re.Match object; span=(0, 4), match='3000'>\n",
      "<re.Match object; span=(0, 2), match='30'>\n"
     ]
    }
   ],
   "source": [
    "import re \n",
    "\n",
    "string = '3000'\n",
    "\n",
    "pattern_greedy = '30+'\n",
    "\n",
    "pattern_non_greedy = '30+?'\n",
    "\n",
    "def findpattern(pattern, text):\n",
    "    if re.search(pattern, text):\n",
    "        return re.search(pattern, text)\n",
    "    else:\n",
    "        return 'Not Found!'\n",
    "\n",
    "print(findpattern(pattern_greedy, string))\n",
    "print(findpattern(pattern_non_greedy, string))"
   ]
  },
  {
   "cell_type": "markdown",
   "metadata": {},
   "source": [
    "> ## 3. Now Let's talk about ' {m,n} ' operator.\n",
    "\n",
    "> ### There are a few things to keep in mind while using this operator, its different use cases carry a different meaning.\n",
    "> - ### {5} : Exactly 5\n",
    "> - ### {,5} : Zero to 5\n",
    "> - ### {5,} : 5 to Infinity\n",
    "> - ### {3,5} : 3 to 5"
   ]
  },
  {
   "cell_type": "code",
   "execution_count": 13,
   "metadata": {},
   "outputs": [
    {
     "name": "stdout",
     "output_type": "stream",
     "text": [
      "-----------------------------\n",
      "wra{5}p will match with wraaaaap\n",
      "-----------------------------\n",
      "wra{,5}p will match with wraaaaap\n",
      "wra{,5}p will match with wrap\n",
      "wra{,5}p will match with wraap\n",
      "wra{,5}p will match with wraaaap\n",
      "-----------------------------\n",
      "wra{5,}p will match with wraaaaaap\n",
      "wra{5,}p will match with wraaaaaaaaaap\n",
      "-----------------------------\n",
      "wra{3,5}p will match with wraaaaap\n",
      "wra{3,5}p will match with wraaaap\n",
      "-----------------------------\n",
      "-----------------------------\n",
      "<re.Match object; span=(0, 8), match='wraaaaap'>\n",
      "-----------------------------\n",
      "<re.Match object; span=(0, 8), match='wraaaaap'>\n",
      "<re.Match object; span=(0, 4), match='wrap'>\n",
      "<re.Match object; span=(0, 5), match='wraap'>\n",
      "<re.Match object; span=(0, 7), match='wraaaap'>\n",
      "-----------------------------\n",
      "<re.Match object; span=(0, 9), match='wraaaaaap'>\n",
      "<re.Match object; span=(0, 13), match='wraaaaaaaaaap'>\n",
      "-----------------------------\n",
      "<re.Match object; span=(0, 8), match='wraaaaap'>\n",
      "<re.Match object; span=(0, 7), match='wraaaap'>\n"
     ]
    }
   ],
   "source": [
    "import re\n",
    "# patterns: \n",
    "pattern1 = 'wra{5}p'\n",
    "pattern2 = 'wra{,5}p'\n",
    "pattern3 = 'wra{5,}p'\n",
    "pattern4 = 'wra{3,5}p'\n",
    "\n",
    "# strings:\n",
    "\n",
    "string1 = 'wraaaaap'\n",
    "string2 = 'wraaaaaap'\n",
    "string3 = 'wraaaaaaaaaap'\n",
    "string4 = 'wrap'\n",
    "string5 = 'wraap'\n",
    "string6 = 'wraaaap'\n",
    "\n",
    "#--------------MAIN---------------\n",
    "\n",
    "print('-----------------------------')\n",
    "print('{} will match with {}'.format(pattern1, string1))\n",
    "print('-----------------------------')\n",
    "print('{} will match with {}'.format(pattern2, string1))\n",
    "print('{} will match with {}'.format(pattern2, string4))\n",
    "print('{} will match with {}'.format(pattern2, string5))\n",
    "print('{} will match with {}'.format(pattern2, string6))\n",
    "print('-----------------------------')\n",
    "print('{} will match with {}'.format(pattern3, string2))\n",
    "print('{} will match with {}'.format(pattern3, string3))\n",
    "print('-----------------------------')\n",
    "print('{} will match with {}'.format(pattern4, string1))\n",
    "print('{} will match with {}'.format(pattern4, string6))\n",
    "\n",
    "\n",
    "def findpattern(pattern, text):\n",
    "    if re.search(pattern, text):\n",
    "        return re.search(pattern, text)\n",
    "    else:\n",
    "        return 'Not Found!'\n",
    "print('-----------------------------')\n",
    "print('-----------------------------')\n",
    "print(findpattern(pattern1, string1))\n",
    "print('-----------------------------')\n",
    "print(findpattern(pattern2, string1))\n",
    "print(findpattern(pattern2, string4))\n",
    "print(findpattern(pattern2, string5))\n",
    "print(findpattern(pattern2, string6))\n",
    "print('-----------------------------')\n",
    "print(findpattern(pattern3, string2))\n",
    "print(findpattern(pattern3, string3))\n",
    "print('-----------------------------')\n",
    "print(findpattern(pattern4, string1))\n",
    "print(findpattern(pattern4, string6))"
   ]
  }
 ],
 "metadata": {
  "interpreter": {
   "hash": "354681bc23852cca0de36eb0005d9651cffb47cbeeb9f6683b1ff82711b4e09d"
  },
  "kernelspec": {
   "display_name": "Python 3.8.8 64-bit ('base': conda)",
   "name": "python3"
  },
  "language_info": {
   "codemirror_mode": {
    "name": "ipython",
    "version": 3
   },
   "file_extension": ".py",
   "mimetype": "text/x-python",
   "name": "python",
   "nbconvert_exporter": "python",
   "pygments_lexer": "ipython3",
   "version": "3.8.8"
  },
  "orig_nbformat": 4
 },
 "nbformat": 4,
 "nbformat_minor": 2
}
