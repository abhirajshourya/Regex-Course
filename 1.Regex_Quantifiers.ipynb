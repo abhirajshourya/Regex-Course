{
 "cells": [
  {
   "cell_type": "markdown",
   "metadata": {},
   "source": [
    "# Hello,"
   ]
  },
  {
   "cell_type": "markdown",
   "metadata": {},
   "source": [
    "> ## Welcome to Module-1\n",
    "> ## This is a quick overview for Regular Expressions - Quantifiers\n",
    ">\n",
    "> ## There are four types of quantifiers.\n",
    "> - ## ' ? ' operator : present or absent\n",
    "> - ## ' + ' operator : one or more\n",
    "> - ## ' * ' operator : zero or more\n",
    "> - ## ' {m,n} ' operator : range of presence from m to n, both inclusive."
   ]
  },
  {
   "cell_type": "markdown",
   "metadata": {},
   "source": [
    "----"
   ]
  },
  {
   "cell_type": "markdown",
   "metadata": {},
   "source": [
    "## Let's have some examples"
   ]
  },
  {
   "cell_type": "markdown",
   "metadata": {},
   "source": [
    "### Here I'm using Python Language. Import RE module to begin with 'regex' operations in Python"
   ]
  },
  {
   "cell_type": "markdown",
   "metadata": {},
   "source": [
    "## Quantifier ' ? '\n",
    "- ### If a sequence exists as defined by the pattern it'll specify their presence.\n",
    "- ### Let us consider this pattern = '.+ing?'\n",
    "- ### It will find whether a word ending with 'ing' exists or not."
   ]
  },
  {
   "cell_type": "code",
   "execution_count": 4,
   "metadata": {},
   "outputs": [
    {
     "name": "stdout",
     "output_type": "stream",
     "text": [
      "Present\n"
     ]
    }
   ],
   "source": [
    "#importing re module\n",
    "import re\n",
    "\n",
    "# here we'll use re.search(pattern, string) method for performing operations.\n",
    "# define the string in which you want to search.\n",
    "# define the pattern you are looking for - THE REGEX PART.\n",
    "\n",
    "string = 'Cats and Dogs are playing in the park since 10:00 AM.'\n",
    "\n",
    "# let's find out that the word 'playing' is present or not.\n",
    "\n",
    "pattern = 'playing'\n",
    "\n",
    "result = re.search(pattern, string)\n",
    "\n",
    "if result != None:\n",
    "    print('Present')\n",
    "else:\n",
    "    print('Absent')"
   ]
  },
  {
   "cell_type": "markdown",
   "metadata": {},
   "source": [
    "----"
   ]
  },
  {
   "cell_type": "markdown",
   "metadata": {},
   "source": [
    "## Quantifier ' + '\n",
    "- ### Defines that a character occurs one or more times in the sequence.\n",
    "- ### Let us consider this pattern = '.+ing'\n",
    "- ### The ' . ' here is a wildcard character which represents any character, here the ' + ' sign signifies that any number of characters can be present before 'ing'."
   ]
  },
  {
   "cell_type": "code",
   "execution_count": 12,
   "metadata": {},
   "outputs": [
    {
     "name": "stdout",
     "output_type": "stream",
     "text": [
      "<re.Match object; span=(0, 7), match='falling'>\n",
      "<re.Match object; span=(0, 7), match='parking'>\n",
      "<re.Match object; span=(0, 8), match='draining'>\n",
      "Not Found!\n",
      "Not Found!\n",
      "Not Found!\n"
     ]
    }
   ],
   "source": [
    "pattern = '.+ing'\n",
    "\n",
    "# The strings will be matched.\n",
    "\n",
    "string1 = 'falling'\n",
    "string2 = 'parking'\n",
    "string3 = 'draining'\n",
    "\n",
    "\n",
    "\n",
    "# Non-Matching will be\n",
    "\n",
    "string4 = 'fall'\n",
    "string5 = 'drain'\n",
    "string6 = 'park'\n",
    "\n",
    "#--------------CODE---------------\n",
    "def findpattern(pattern, text):\n",
    "    if re.search(pattern, text):\n",
    "        return re.search(pattern, text)\n",
    "    else:\n",
    "        return 'Not Found!'\n",
    "\n",
    "print(findpattern(pattern, string1))\n",
    "print(findpattern(pattern, string2))\n",
    "print(findpattern(pattern, string3))\n",
    "print(findpattern(pattern, string4))\n",
    "print(findpattern(pattern, string5))\n",
    "print(findpattern(pattern, string6))"
   ]
  },
  {
   "cell_type": "markdown",
   "metadata": {},
   "source": [
    "----\n"
   ]
  },
  {
   "cell_type": "markdown",
   "metadata": {},
   "source": [
    "## Quantifier ' * '\n",
    "- ### Defines that a character occurs zero or more times in the sequence.\n",
    "- ### Let us consider this pattern = '.*ing'\n",
    "- ### The ' . ' here is a wildcard character which represents any character, here the ' * ' sign signifies that any number of characters can be present before 'ing'."
   ]
  },
  {
   "cell_type": "code",
   "execution_count": 11,
   "metadata": {},
   "outputs": [
    {
     "name": "stdout",
     "output_type": "stream",
     "text": [
      "<re.Match object; span=(0, 7), match='falling'>\n",
      "<re.Match object; span=(0, 7), match='parking'>\n",
      "<re.Match object; span=(0, 3), match='ing'>\n",
      "Not Found!\n",
      "Not Found!\n",
      "Not Found!\n"
     ]
    }
   ],
   "source": [
    "pattern = '.*ing'\n",
    "\n",
    "# The strings will be matched.\n",
    "\n",
    "string1 = 'falling'\n",
    "string2 = 'parking'\n",
    "string3 = 'ing'\n",
    "\n",
    "\n",
    "\n",
    "# Non-Matching will be\n",
    "\n",
    "string4 = 'fall'\n",
    "string5 = 'drain'\n",
    "string6 = 'park'\n",
    "\n",
    "#--------------CODE---------------\n",
    "def findpattern(pattern, text):\n",
    "    if re.search(pattern, text):\n",
    "        return re.search(pattern, text)\n",
    "    else:\n",
    "        return 'Not Found!'\n",
    "\n",
    "print(findpattern(pattern, string1))\n",
    "print(findpattern(pattern, string2))\n",
    "print(findpattern(pattern, string3))\n",
    "print(findpattern(pattern, string4))\n",
    "print(findpattern(pattern, string5))\n",
    "print(findpattern(pattern, string6))"
   ]
  },
  {
   "cell_type": "markdown",
   "metadata": {},
   "source": [
    "----"
   ]
  },
  {
   "cell_type": "markdown",
   "metadata": {},
   "source": [
    "## Quantifier ' {m,n} '\n",
    "- ### Defines that a character occurs in the given range of m to n times in the sequence.\n",
    "- ### Let us consider this pattern = 'wra{5,10}p'\n",
    "- ### Here 'a' should appear in the range of 5 to 10 inclusive, whenever a word similar to wrap is found."
   ]
  },
  {
   "cell_type": "code",
   "execution_count": 15,
   "metadata": {},
   "outputs": [
    {
     "name": "stdout",
     "output_type": "stream",
     "text": [
      "<re.Match object; span=(0, 8), match='wraaaaap'>\n",
      "<re.Match object; span=(0, 9), match='wraaaaaap'>\n",
      "<re.Match object; span=(0, 13), match='wraaaaaaaaaap'>\n",
      "Not Found!\n",
      "Not Found!\n",
      "Not Found!\n"
     ]
    }
   ],
   "source": [
    "pattern = 'wra{5,10}p'\n",
    "\n",
    "# The strings will be matched.\n",
    "\n",
    "string1 = 'wraaaaap'\n",
    "string2 = 'wraaaaaap'\n",
    "string3 = 'wraaaaaaaaaap'\n",
    "\n",
    "\n",
    "\n",
    "# Non-Matching will be\n",
    "\n",
    "string4 = 'wrap'\n",
    "string5 = 'wraap'\n",
    "string6 = 'wraaaap'\n",
    "\n",
    "#--------------CODE---------------\n",
    "def findpattern(pattern, text):\n",
    "    if re.search(pattern, text):\n",
    "        return re.search(pattern, text)\n",
    "    else:\n",
    "        return 'Not Found!'\n",
    "\n",
    "print(findpattern(pattern, string1))\n",
    "print(findpattern(pattern, string2))\n",
    "print(findpattern(pattern, string3))\n",
    "print(findpattern(pattern, string4))\n",
    "print(findpattern(pattern, string5))\n",
    "print(findpattern(pattern, string6))"
   ]
  },
  {
   "cell_type": "markdown",
   "metadata": {},
   "source": [
    "----\n",
    "# This the end of this Module\n",
    "-----"
   ]
  }
 ],
 "metadata": {
  "interpreter": {
   "hash": "354681bc23852cca0de36eb0005d9651cffb47cbeeb9f6683b1ff82711b4e09d"
  },
  "kernelspec": {
   "display_name": "Python 3.8.8 64-bit ('base': conda)",
   "name": "python3"
  },
  "language_info": {
   "codemirror_mode": {
    "name": "ipython",
    "version": 3
   },
   "file_extension": ".py",
   "mimetype": "text/x-python",
   "name": "python",
   "nbconvert_exporter": "python",
   "pygments_lexer": "ipython3",
   "version": "3.8.8"
  },
  "orig_nbformat": 4
 },
 "nbformat": 4,
 "nbformat_minor": 2
}
