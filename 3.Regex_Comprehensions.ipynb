{
 "cells": [
  {
   "cell_type": "markdown",
   "metadata": {},
   "source": [
    "# Hello,\n",
    "> ## Welcome to Module-3\n",
    "> ## In this module, we'll discuss about regex comprehensions.\n",
    "- ### Whitespace\n",
    "- ### Parentheses\n",
    "- ### Pipe Operator\n",
    "- ### Escape Sequence\n",
    "    \n",
    "----    "
   ]
  },
  {
   "cell_type": "markdown",
   "metadata": {},
   "source": [
    "> ## 1. Whitespace\n",
    "\n",
    "> ### Whitespace in a regex means we are simply looking for whitespace in the given pattern whether it'd be a a single space, multiple spaces, tab space or a newline character. All the rules that were valid for alphabetical characters or digits would also be applicable for whitesapces as well."
   ]
  },
  {
   "cell_type": "code",
   "execution_count": 27,
   "metadata": {},
   "outputs": [
    {
     "name": "stdout",
     "output_type": "stream",
     "text": [
      "<re.Match object; span=(10, 17), match=' Amita '>\n",
      "<re.Match object; span=(11, 18), match=' regex '>\n"
     ]
    }
   ],
   "source": [
    "import re\n",
    "\n",
    "pattern = ' \\w{5} '\n",
    "\n",
    "string1 = 'My name is Amita Rossary'\n",
    "string2 = 'I am new to regex with python'\n",
    "\n",
    "#--------------CODE---------------\n",
    "def findpattern(pattern, text):\n",
    "    if re.search(pattern, text):\n",
    "        return re.search(pattern, text)\n",
    "    else:\n",
    "        return 'Not Found!'\n",
    "\n",
    "print(findpattern(pattern, string1))\n",
    "print(findpattern(pattern, string2))"
   ]
  },
  {
   "cell_type": "markdown",
   "metadata": {},
   "source": [
    "### As you can see, we have whitespaces included in our result along with the characters.\n",
    "\n",
    "---"
   ]
  },
  {
   "cell_type": "markdown",
   "metadata": {},
   "source": [
    "> ## 2. Parentheses\n",
    "\n",
    "> ### Parentheses ' () ' are used to group cetrain items which tend to occur in repetitions. Parentheses are also used for a concept known as grouping which we'll learn later in the course. For now let's take an example.\n"
   ]
  },
  {
   "cell_type": "code",
   "execution_count": 32,
   "metadata": {},
   "outputs": [
    {
     "name": "stdout",
     "output_type": "stream",
     "text": [
      "<re.Match object; span=(0, 10), match='2323232323'>\n",
      "<re.Match object; span=(1, 3), match='23'>\n"
     ]
    }
   ],
   "source": [
    "import re \n",
    "\n",
    "string = '2323232323'\n",
    "string2 = '223322332233'\n",
    "\n",
    "pattern = '(23)+'\n",
    "\n",
    "def findpattern(pattern, text):\n",
    "    if re.search(pattern, text):\n",
    "        return re.search(pattern, text)\n",
    "    else:\n",
    "        return 'Not Found!'\n",
    "\n",
    "print(findpattern(pattern, string))\n",
    "print(findpattern(pattern, string2))"
   ]
  },
  {
   "cell_type": "markdown",
   "metadata": {},
   "source": [
    "----"
   ]
  },
  {
   "cell_type": "markdown",
   "metadata": {},
   "source": [
    "> ## 3. Pipe Operator\n",
    "> ### A Pipe Operator is ' | ' which simply means ' or '. It requires to be inside the paretheses. It's used to simplify the pattern and search multiple similar patterns at once. For example, we have two words 'rope' and 'hope', using pipe our regex would look like: '(r|h)ope'. Let's look at it in action."
   ]
  },
  {
   "cell_type": "code",
   "execution_count": 34,
   "metadata": {},
   "outputs": [
    {
     "name": "stdout",
     "output_type": "stream",
     "text": [
      "<re.Match object; span=(0, 10), match='Basketball'>\n",
      "<re.Match object; span=(0, 8), match='Baseball'>\n",
      "<re.Match object; span=(0, 10), match='Volleyball'>\n",
      "<re.Match object; span=(0, 8), match='Softball'>\n",
      "<re.Match object; span=(0, 8), match='Football'>\n"
     ]
    }
   ],
   "source": [
    "import re\n",
    "# patterns: \n",
    "pattern = '(Basket|Base|Volley|Soft|Foot)ball'\n",
    "\n",
    "\n",
    "# strings:\n",
    "string1 = 'Basketball'\n",
    "string2 = 'Baseball'\n",
    "string3 = 'Volleyball'\n",
    "string4 = 'Softball'\n",
    "string5 = 'Football'\n",
    "#--------------MAIN---------------\n",
    "def findpattern(pattern, text):\n",
    "    if re.search(pattern, text):\n",
    "        return re.search(pattern, text)\n",
    "    else:\n",
    "        return 'Not Found!'\n",
    "\n",
    "print(findpattern(pattern, string1))\n",
    "print(findpattern(pattern, string2))\n",
    "print(findpattern(pattern, string3))\n",
    "print(findpattern(pattern, string4))\n",
    "print(findpattern(pattern, string5))\n"
   ]
  },
  {
   "cell_type": "markdown",
   "metadata": {},
   "source": [
    "----"
   ]
  },
  {
   "cell_type": "markdown",
   "metadata": {},
   "source": [
    "> ## 4. Escape Sequence\n",
    "> ### Escape Sequence are very useful often when you want to mention special characters such as ' ? ', ' * ', ' + ', '(', ' ) ', ' { ', etc. in your regex.\n",
    "\n",
    "> ### The escape sequence, denoted by a backslash ‘\\’, is used to escape the special meaning of the special characters. To match a question mark literally, you need to use '\\?'\n",
    "\n",
    "> ### Any symbolic character except alphabets & numbers will require you to use escape sequence in order to mention them."
   ]
  },
  {
   "cell_type": "code",
   "execution_count": 37,
   "metadata": {},
   "outputs": [
    {
     "name": "stdout",
     "output_type": "stream",
     "text": [
      "<re.Match object; span=(1, 2), match='*'>\n",
      "<re.Match object; span=(1, 2), match='+'>\n",
      "<re.Match object; span=(1, 2), match='='>\n"
     ]
    }
   ],
   "source": [
    "import re\n",
    "# patterns: \n",
    "pattern = '[\\+\\-\\*\\=]+'\n",
    "\n",
    "\n",
    "# strings:\n",
    "string1 = '2*3'\n",
    "string2 = '5+1'\n",
    "string3 = '1=1'\n",
    "#--------------MAIN---------------\n",
    "def findpattern(pattern, text):\n",
    "    if re.search(pattern, text):\n",
    "        return re.search(pattern, text)\n",
    "    else:\n",
    "        return 'Not Found!'\n",
    "\n",
    "print(findpattern(pattern, string1))\n",
    "print(findpattern(pattern, string2))\n",
    "print(findpattern(pattern, string3))\n"
   ]
  },
  {
   "cell_type": "markdown",
   "metadata": {},
   "source": [
    "----\n",
    "# This the end of this Module\n",
    "-----"
   ]
  }
 ],
 "metadata": {
  "interpreter": {
   "hash": "354681bc23852cca0de36eb0005d9651cffb47cbeeb9f6683b1ff82711b4e09d"
  },
  "kernelspec": {
   "display_name": "Python 3.8.8 64-bit ('base': conda)",
   "name": "python3"
  },
  "language_info": {
   "codemirror_mode": {
    "name": "ipython",
    "version": 3
   },
   "file_extension": ".py",
   "mimetype": "text/x-python",
   "name": "python",
   "nbconvert_exporter": "python",
   "pygments_lexer": "ipython3",
   "version": "3.8.8"
  },
  "orig_nbformat": 4
 },
 "nbformat": 4,
 "nbformat_minor": 2
}
