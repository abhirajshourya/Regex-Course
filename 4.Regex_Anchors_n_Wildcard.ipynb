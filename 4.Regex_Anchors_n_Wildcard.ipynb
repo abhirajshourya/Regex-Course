{
 "cells": [
  {
   "cell_type": "markdown",
   "metadata": {},
   "source": [
    "# Hello,\n",
    "> ## Welcome to Module-4\n",
    "> ## In this module, we'll discuss about Anchors ' ^ ' & ' $ ' and Wildcard character ' . '.\n",
    "    \n",
    "----    "
   ]
  },
  {
   "cell_type": "markdown",
   "metadata": {},
   "source": [
    "> ## 1. Anchors\n",
    "\n",
    "> ### The Caret Sign ' ^ ' is used to denote the beginning of the pattern.\n",
    "\n",
    "> ### Similarly The Dollar Sign ' $ ' is used to denote the ending of the pattern.\n",
    "\n",
    "> ### For Example, 'India' starts with 'I' so regex will be '^I' and end with an 'a' hence regex will be 'a$'. It's a very naive example of anchors, let's see it in action."
   ]
  },
  {
   "cell_type": "code",
   "execution_count": 2,
   "metadata": {},
   "outputs": [
    {
     "name": "stdout",
     "output_type": "stream",
     "text": [
      "<re.Match object; span=(0, 1), match='I'>\n",
      "<re.Match object; span=(4, 5), match='a'>\n",
      "<re.Match object; span=(0, 1), match='I'>\n",
      "Not Found!\n"
     ]
    }
   ],
   "source": [
    "import re\n",
    "\n",
    "pattern1 = '^I'\n",
    "pattern2 = 'a$'\n",
    "\n",
    "string1 = 'India'\n",
    "string2 = 'Iran'\n",
    "\n",
    "#--------------CODE---------------\n",
    "def findpattern(pattern, text):\n",
    "    if re.search(pattern, text):\n",
    "        return re.search(pattern, text)\n",
    "    else:\n",
    "        return 'Not Found!'\n",
    "\n",
    "print(findpattern(pattern1, string1))\n",
    "print(findpattern(pattern2, string1))\n",
    "\n",
    "print(findpattern(pattern1, string2))\n",
    "print(findpattern(pattern2, string2))"
   ]
  },
  {
   "cell_type": "markdown",
   "metadata": {},
   "source": [
    "### As you can see, India matched with both the patterns, since it starts with 'I' as well as ends with an 'a', but Iran only matched with pattern1, since it doesn't end with an 'a'.\n",
    "\n",
    "---"
   ]
  },
  {
   "cell_type": "markdown",
   "metadata": {},
   "source": [
    "> ## 2. Wildcard\n",
    "\n",
    "> ### The Wildcard character ' . ' matches with literally anything! Works similarly like other characters nothing special, only remeber if you want to match a fullstop or a dot from a text which has meaning, use Escape Sequence as we learnt previously.\n"
   ]
  },
  {
   "cell_type": "code",
   "execution_count": 1,
   "metadata": {},
   "outputs": [
    {
     "name": "stdout",
     "output_type": "stream",
     "text": [
      "<re.Match object; span=(0, 9), match='*!&#()*&@'>\n",
      "<re.Match object; span=(0, 21), match='Absdj023901@zllk.ioas'>\n",
      "<re.Match object; span=(0, 20), match='my name is yagorath!'>\n"
     ]
    }
   ],
   "source": [
    "import re \n",
    "\n",
    "string = '*!&#()*&@'\n",
    "string2 = 'Absdj023901@zllk.ioas'\n",
    "string3 = 'my name is yagorath!'\n",
    "\n",
    "pattern = '.+'\n",
    "\n",
    "def findpattern(pattern, text):\n",
    "    if re.search(pattern, text):\n",
    "        return re.search(pattern, text)\n",
    "    else:\n",
    "        return 'Not Found!'\n",
    "\n",
    "print(findpattern(pattern, string))\n",
    "print(findpattern(pattern, string2))\n",
    "print(findpattern(pattern, string3))"
   ]
  },
  {
   "cell_type": "markdown",
   "metadata": {},
   "source": [
    "----\n",
    "# This the end of this Module\n",
    "-----"
   ]
  }
 ],
 "metadata": {
  "interpreter": {
   "hash": "354681bc23852cca0de36eb0005d9651cffb47cbeeb9f6683b1ff82711b4e09d"
  },
  "kernelspec": {
   "display_name": "Python 3.8.8 64-bit ('base': conda)",
   "name": "python3"
  },
  "language_info": {
   "codemirror_mode": {
    "name": "ipython",
    "version": 3
   },
   "file_extension": ".py",
   "mimetype": "text/x-python",
   "name": "python",
   "nbconvert_exporter": "python",
   "pygments_lexer": "ipython3",
   "version": "3.8.8"
  },
  "orig_nbformat": 4
 },
 "nbformat": 4,
 "nbformat_minor": 2
}
