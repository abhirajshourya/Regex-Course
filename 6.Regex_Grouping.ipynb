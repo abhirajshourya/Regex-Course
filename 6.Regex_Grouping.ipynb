{
 "cells": [
  {
   "cell_type": "markdown",
   "metadata": {},
   "source": [
    "# Hello,\n",
    "> ## Welcome to Module-6\n",
    "> ## In this module, we'll discuss about Grouping as we mentioned in Comprehensions module which require use of Parenthesis.\n",
    "\n",
    "----"
   ]
  },
  {
   "cell_type": "markdown",
   "metadata": {},
   "source": [
    "> ### The reason for grouping is because sometimes you need to extract sub-patterns out of a larger pattern. This can be done by using grouping.\n",
    ">\n",
    "> ### Example: *\"I went to New Delhi on 30/10/2021 where I spent almost 2000 Rupees.\"*\n",
    "> ### Now let's say you want to extract the date from this string and specifically the year from the date. Since year is a 4 digit number we can use '\\d{4}', but there is another 4 digit number in the string and it will conflict with the expected result.\n",
    "\n",
    "> ### In order to obtain the year from string we can define the date regex first i.e., `'\\d{1,2}\\/\\d{1,2}\\/\\d{4}'`\n",
    "_psst, did you see the escape sequence_\n",
    "> ### After this we'll put parenthesis around the year sub-regex of the regex like this, `'\\d{1,2}\\/\\d{1,2}\\/(\\d{4})'`"
   ]
  },
  {
   "cell_type": "code",
   "execution_count": 14,
   "metadata": {},
   "outputs": [
    {
     "name": "stdout",
     "output_type": "stream",
     "text": [
      "2021\n"
     ]
    }
   ],
   "source": [
    "import re\n",
    "\n",
    "# String\n",
    "string = \"I went to New Delhi on 30/10/2021 where I spent almost 2000 Rupees.\"\n",
    "\n",
    "# Pattern\n",
    "pattern = '\\d{1,2}\\/\\d{1,2}\\/(\\d{4})'\n",
    "\n",
    "match = re.search(pattern, string)\n",
    "\n",
    "print(match.group(1))\n",
    "\n"
   ]
  },
  {
   "cell_type": "markdown",
   "metadata": {},
   "source": [
    "### Extracting Domain from email address"
   ]
  },
  {
   "cell_type": "code",
   "execution_count": 15,
   "metadata": {},
   "outputs": [
    {
     "name": "stdout",
     "output_type": "stream",
     "text": [
      "gmail.com\n"
     ]
    }
   ],
   "source": [
    "import re\n",
    "\n",
    "# String\n",
    "string = \"pikachu@gmail.com\"\n",
    "\n",
    "# Pattern\n",
    "pattern = '.+\\@(\\w+.com)'\n",
    "\n",
    "match = re.search(pattern, string)\n",
    "\n",
    "print(match.group(1))\n",
    "\n"
   ]
  },
  {
   "cell_type": "markdown",
   "metadata": {},
   "source": [
    "----\n",
    "# This the end of this Module\n",
    "-----"
   ]
  },
  {
   "cell_type": "markdown",
   "metadata": {},
   "source": [
    "### _Thank You and congratulations for successfully completing the course 🥂. I am working on a practice assignment which will have some questions for you to practice and get the hold of basics, meanwhile you can visit [here](regex101.com) to hone you regex skills._"
   ]
  },
  {
   "cell_type": "markdown",
   "metadata": {},
   "source": [
    "----"
   ]
  }
 ],
 "metadata": {
  "interpreter": {
   "hash": "354681bc23852cca0de36eb0005d9651cffb47cbeeb9f6683b1ff82711b4e09d"
  },
  "kernelspec": {
   "display_name": "Python 3.8.8 64-bit ('base': conda)",
   "name": "python3"
  },
  "language_info": {
   "codemirror_mode": {
    "name": "ipython",
    "version": 3
   },
   "file_extension": ".py",
   "mimetype": "text/x-python",
   "name": "python",
   "nbconvert_exporter": "python",
   "pygments_lexer": "ipython3",
   "version": "3.8.8"
  },
  "orig_nbformat": 4
 },
 "nbformat": 4,
 "nbformat_minor": 2
}
